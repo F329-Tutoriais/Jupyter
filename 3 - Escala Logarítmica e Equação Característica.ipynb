{
 "cells": [
  {
   "cell_type": "markdown",
   "metadata": {},
   "source": [
    "# Sumário\n",
    "\n",
    "- [Escala Logarítmica](#Escala-Logarítmica)\n",
    "    - [Gráfico Log-Log](#Gráfico-Log-Log)\n",
    "    - [Gráfico Semi-Log](#Gráfico-Semi-Log)\n",
    "    - [Regressão em Escala Logarítmica](#Regressão-em-Escala-Logarítmica)\n",
    "\n",
    "- [Equação Característica](#Equação-Característica)"
   ]
  },
  {
   "cell_type": "code",
   "execution_count": null,
   "metadata": {},
   "outputs": [],
   "source": [
    "%matplotlib inline\n",
    "\n",
    "import numpy as np\n",
    "import pandas as pd\n",
    "from matplotlib import pyplot as plt"
   ]
  },
  {
   "cell_type": "code",
   "execution_count": null,
   "metadata": {},
   "outputs": [],
   "source": [
    "config_nb = {\n",
    "    'axes.spines.right': False,\n",
    "    'axes.spines.top':   False,\n",
    "    'axes.edgecolor':  '.4',\n",
    "    'axes.labelcolor': '.0',\n",
    "    'axes.titlesize': 'large',\n",
    "    'axes.labelsize': 'medium',\n",
    "    'figure.autolayout': True,\n",
    "    'figure.figsize': (8.1, 6.3),\n",
    "    'font.size': 16.0,\n",
    "    'grid.linestyle': '--',\n",
    "    'legend.facecolor': '1.0',\n",
    "    'legend.framealpha': 0.9,\n",
    "    'legend.frameon': True,\n",
    "    'savefig.transparent': False,\n",
    "    'text.color': '.0',\n",
    "    'xtick.labelsize': 'small',\n",
    "    'ytick.labelsize': 'small',\n",
    "}\n",
    "plt.style.use(['seaborn-darkgrid', 'seaborn-notebook', 'seaborn-bright', config_nb])"
   ]
  },
  {
   "cell_type": "markdown",
   "metadata": {},
   "source": [
    "# Escala Logarítmica\n",
    "\n",
    "Várias vezes os dados não apresentam relação linear diretamente. Nesses casos, é importante encontrar alguma técnica de linearização que transforma os dados para novos valores dependentes, mas que se relacionam de maneira linear. Algo como a relação abaixo.\n",
    "\n",
    "$$ f(x, y) = a + b ~ g(x, y) $$\n",
    "\n",
    "Dentre as técnicas mais comuns, muitas envolvem a aplicação de logaritmos para linearizar algum monômio, isto é, nos casos de $y \\propto x^k$, ou alguma relação exponencial, $y \\propto k^x$. Para esses casos, é comum a utilização de escala logarítmica na intenção de se observar melhor os dados, em que $f(x, y) = \\log(y)$ e $g(x, y) = \\log(x)$.\n"
   ]
  },
  {
   "cell_type": "markdown",
   "metadata": {},
   "source": [
    "## Gráfico Log-Log\n",
    "\n",
    "$$ R_d = \\frac{R_1 R_2}{R_x} $$\n",
    "\n",
    "Na planilha 'Dados.xlsx' da [*Introdução*](1%20-%20Introdução.ipynb#Importando-os-Dados \"Introdução - Importando os Dados\") tem uma página 'Wheatstone' com dados de uma ponte de *Wheatstone* equilibrada, dada pela equação teórica acima. Sendo $R_x$ uma resistência variável desconhecida e $R_d$ a resitência da década para equilibrar a ponte, os dados são:"
   ]
  },
  {
   "cell_type": "code",
   "execution_count": null,
   "metadata": {},
   "outputs": [],
   "source": [
    "dados = pd.read_excel('Dados.xlsx', sheet_name='Wheatstone')\n",
    "\n",
    "Rx, dRx = dados['Rx'], dados['dRx']\n",
    "Rd, dRd = dados['Rd'], dados['dRd']\n",
    "\n",
    "dados"
   ]
  },
  {
   "cell_type": "code",
   "execution_count": null,
   "metadata": {},
   "outputs": [],
   "source": [
    "plt.errorbar(\n",
    "    Rx, Rd, xerr=dRx, yerr=dRd,\n",
    "    fmt='o', elinewidth=1, capsize=3, capthick=1, color='black',\n",
    "    zorder=10, label='Dados Coletados'\n",
    ")"
   ]
  },
  {
   "cell_type": "markdown",
   "metadata": {},
   "source": [
    "Com esses dados, podemos aplicar a seguinte técnica de linearização:\n",
    "\n",
    "$$\n",
    "\\begin{align}\n",
    "    \\log(R_d)\n",
    "            &= \\log\\left(R_1 R_2 ~ (R_x)^{-1}\\right) \\\\\n",
    "            &= \\log(R_1 R_2) + \\log\\left((R_x)^{-1}\\right) \\\\\n",
    "            &= \\log(R_1 R_2) - \\log(R_x)\n",
    "\\end{align}\n",
    "$$\n",
    "\n",
    "Portanto, podemos montar um gráfico <TT>log-log</TT> de $R_d$ por $R_x$. O <TT>pyplot</TT> tem as funções [`xscale`](https://matplotlib.org/api/_as_gen/matplotlib.pyplot.xscale.html \"matplotlib.pyplot.xscale\") e [`yscale`](https://matplotlib.org/api/_as_gen/matplotlib.pyplot.yscale.html \"matplotlib.pyplot.yscale\") para mudar as escalas dos eixos, que podem receber como argumento `'linear'` e `'log'` por padrão, além de algumas outras opções, mas também é possível adicionar [escalas](https://matplotlib.org/gallery/scales/custom_scale.html \"Custom Scale\") [customizadas](https://matplotlib.org/gallery/scales/scales.html \"Scales\") no <TT>Matplotlib</TT>.\n",
    "\n",
    "Para facilitar na leitura dos dados, foram colocadas linhas internas com a função [`grid`](https://matplotlib.org/api/_as_gen/matplotlib.pyplot.grid.html \"matplotlib.pyplot.grid\") do <TT>pyplot</TT> e os argumentos `True`, para mostrar as linhas, e `which='minor'`, para desenhar entre as linhas principais. Elas também foram colocadas em ambos os eixos e com cor branca, com as opções `axis='both'` e `color='white'`."
   ]
  },
  {
   "cell_type": "code",
   "execution_count": null,
   "metadata": {},
   "outputs": [],
   "source": [
    "# dados com suas incertezas\n",
    "plt.errorbar(\n",
    "    Rx, Rd, xerr=dRx, yerr=dRd,\n",
    "    fmt='o', elinewidth=1, capsize=3, capthick=1, color='black',\n",
    "    zorder=10, label='Dados Coletados'\n",
    ")\n",
    "\n",
    "# escala logarítmica\n",
    "plt.xscale('log')\n",
    "plt.yscale('log')\n",
    "\n",
    "# linhas de grid internas\n",
    "plt.grid(True, which='minor', axis='both', color='white')\n",
    "\n",
    "# textos\n",
    "plt.xlabel('Resistência Desconhecida [$\\Omega$]')\n",
    "plt.ylabel('Resistência da Década [$\\Omega$]')\n",
    "plt.title('''Relação das Resistências em uma\n",
    "Ponte de Wheatstone Equilibrada''')"
   ]
  },
  {
   "cell_type": "markdown",
   "metadata": {},
   "source": [
    "## Gŕafico Semi-Log\n",
    "\n",
    "$$ R = A ~ \\exp\\left(B ~ T^{-1}\\right) $$\n",
    "\n",
    "Para este exemplo vamos pegar os dados de um termistor, dado pela equação teórica acima. Os dados também estão na mesma planilha mas na página 'Termistor'."
   ]
  },
  {
   "cell_type": "code",
   "execution_count": null,
   "metadata": {},
   "outputs": [],
   "source": [
    "dados = pd.read_excel('Dados.xlsx', sheet_name='Termistor')\n",
    "\n",
    "T, dT = dados['T'], dados['dT']\n",
    "R, dR = dados['R'], dados['dR']\n",
    "\n",
    "dados"
   ]
  },
  {
   "cell_type": "code",
   "execution_count": null,
   "metadata": {},
   "outputs": [],
   "source": [
    "plt.errorbar(\n",
    "    T, R, xerr=dT, yerr=dR,\n",
    "    fmt='o', elinewidth=1, capsize=3, capthick=1, color='black',\n",
    "    zorder=10, label='Dados Coletados'\n",
    ")"
   ]
  },
  {
   "cell_type": "markdown",
   "metadata": {},
   "source": [
    "Linearizando com $\\ln$ fica:\n",
    "\n",
    "$$\n",
    "\\begin{align}\n",
    "    \\ln(R)\n",
    "            &= \\ln\\left(A ~ \\exp\\left(B ~ T^{-1}\\right) \\right) \\\\\n",
    "            &= \\ln(A) + \\ln\\left(\\exp\\left(B ~ T^{-1}\\right) \\right) \\\\\n",
    "            &= \\ln(A) + B ~ T^{-1}\n",
    "\\end{align}\n",
    "$$\n",
    "\n",
    "Que pode ser usada em um gráfico <TT>semi-log</TT> de $R \\times T^{-1}$, feito similar à seção [*Gráfico Log-Log*](#Gráfico-Log-Log \"Escala Logarítmica - Gráfico Log-Log\"), que pode ser visto abaixo. Uma das diferenças específicas da equação (\\ref{eq:termistor}) é a transformação do eixo $x$ da temperatura para $T^{-1}$."
   ]
  },
  {
   "cell_type": "code",
   "execution_count": null,
   "metadata": {},
   "outputs": [],
   "source": [
    "# transformação do eixo x\n",
    "x = 1/T\n",
    "dx = dT/T**2\n",
    "\n",
    "# dados com incertezas\n",
    "plt.errorbar(\n",
    "    x, R, xerr=dx, yerr=dR,\n",
    "    fmt='o', elinewidth=1, capsize=3, capthick=1, color='black',\n",
    "    zorder=10, label='Dados Coletados'\n",
    ")\n",
    "\n",
    "# escala logarítmica\n",
    "plt.yscale('log')\n",
    "\n",
    "# linhas de grid\n",
    "plt.grid(True, which='minor', axis='y', color='white')\n",
    "\n",
    "# textos\n",
    "plt.xlabel('1/T [$K^{-1}$]')\n",
    "plt.ylabel('Resistência [$\\Omega$]')\n",
    "plt.title('''Relação da Resistência pelo Inverso\n",
    "da Temperatura em um Termistor''')"
   ]
  },
  {
   "cell_type": "markdown",
   "metadata": {},
   "source": [
    "> A escolha de transformar o eixo, como foi feito no eixo $x$ aqui, ou mudar a escala, igual do eixo $y$, é uma parte importante da montagem dos gráficos. Normalmente, é preferível mexer na escala quando é uma escala conhecida ou quando se busca explicitar os valores originais do eixo. Nos casos em que isso não é necessário ou não é possível, a transformação dos eixos acaba sendo uma opção menos confusa."
   ]
  },
  {
   "cell_type": "markdown",
   "metadata": {},
   "source": [
    "## Regressão em Escala Logarítmica\n",
    "\n",
    "Uma opção comum para a regressão de uma curva de um monômio ou de uma exponencial é encontrar uma linearização, como a da seção , e, com a nova relação linear de $f(x, y) \\times g(x, y)$, aplicar a regressão como da seção [*Gráfico Log-Log*](#Gráfico-Log-Log \"Escala Logarítmica - Gráfico Log-Log\"). O único detalhe é que é preciso encontrar os valores de $f(x, y)$ e $g(x, y)$ e suas incertezas para cada par $(x, y)$ dos dados e só com esses valores pode-se encontrar os coeficientes $a$ e $b$, como foi abaixo.\n",
    "\n",
    "Vamos utilizar aqui novamente os dados da ponte de *Wheatstone* equilibrada. No caso, como a transformação é $f(x, y) = \\log_{10}(x)$, a incerteza fica $\\sigma_{\\log x} = \\frac{1}{\\ln(10)} \\frac{\\sigma_x}{x}$, sendo que para o eixo $y$ a transformação é igual. As funções matemáticas utilizadas foram do <TT>NumPy</TT>, pelas técnicas de vetorização oferecidas, sendo elas [`log`](https://docs.scipy.org/doc/numpy/reference/generated/numpy.log.html \"numpy.log\") e [`log10`](https://docs.scipy.org/doc/numpy/reference/generated/numpy.log10.html \"numpy.log10\"), que equivalem a $\\ln(x)$ e $\\log_{10}(x)$."
   ]
  },
  {
   "cell_type": "code",
   "execution_count": null,
   "metadata": {},
   "outputs": [],
   "source": [
    "from scipy import odr\n",
    "\n",
    "dados = pd.read_excel('Dados.xlsx', sheet_name='Wheatstone')\n",
    "Rx, dRx = dados['Rx'], dados['dRx']\n",
    "Rd, dRd = dados['Rd'], dados['dRd']\n",
    "\n",
    "# transforma os dados para a linearização\n",
    "logRx = np.log10(Rx)\n",
    "logRd = np.log10(Rd)\n",
    "\n",
    "dlogRx = dRx / (Rx * np.log(10))\n",
    "dlogRd = dRd / (Rd * np.log(10))\n",
    "\n",
    "# regressão linear com incertezas\n",
    "data = odr.RealData(logRx, logRd, sx=dlogRx, sy=dlogRd)\n",
    "odreg = odr.ODR(data, odr.models.unilinear)\n",
    "ans = odreg.run()\n",
    "\n",
    "a, b = ans.beta      # logy = a logx + b\n",
    "da, db = ans.sd_beta # incertezas de a e b\n",
    "\n",
    "# mostrando os coeficientes e suas incertezas\n",
    "print(f'coef. angular = {a}+-{da}')\n",
    "print(f'coef. linear  = {b}+-{db}')\n",
    "\n",
    "rotulo = f'''Regressão Linearizada:\n",
    "$\\log_{{10}}y = ({a:.1f} \\pm {da:.1f}) \\\\times \\log_{{10}}x + ({b:.1f} \\pm {db:.1f})$'''\n",
    "\n",
    "# monta os limites para desenho da reta\n",
    "X = np.logspace(min(logRx), max(logRx), num=200)\n",
    "Y =  10 ** (a*np.log10(X) + b)\n",
    "\n",
    "# dados com as incertezas\n",
    "plt.errorbar(\n",
    "    Rx, Rd, xerr=dRx, yerr=dRd,\n",
    "    fmt='o', elinewidth=1, capsize=3, capthick=1, color='black',\n",
    "    zorder=10, label='Dados Coletados'\n",
    ")\n",
    "# regressão linear\n",
    "plt.plot(X, Y, color='red', alpha=0.6, label=rotulo)\n",
    "\n",
    "# escala logarítmica\n",
    "plt.xscale('log')\n",
    "plt.yscale('log')\n",
    "\n",
    "# linhas de grid internas\n",
    "plt.grid(True, which='minor', axis='both', color='white')\n",
    "\n",
    "# legendas e textos do gráfico\n",
    "plt.legend()\n",
    "plt.xlabel('Resistência Desconhecida [$\\Omega$]')\n",
    "plt.ylabel('Resistência da Década [$\\Omega$]')\n",
    "plt.title('''Relação das Resistências em uma\n",
    "Ponte de Wheatstone Equilibrada''')"
   ]
  },
  {
   "cell_type": "markdown",
   "metadata": {},
   "source": [
    "> Perceba que a regressão obteve coeficiente angular próximo de $-1$, como era o esperado pela equação da ponte de *Wheatstone*."
   ]
  },
  {
   "cell_type": "markdown",
   "metadata": {},
   "source": [
    "# Equação Característica\n",
    "\n",
    "Um bom exemplo para tratar deste assunto é o experimento do termistor."
   ]
  },
  {
   "cell_type": "markdown",
   "metadata": {},
   "source": [
    "## Encontrando os Coeficientes\n",
    "\n",
    "Para isso, o primeiro passo normalmente é conseguir uma relação de linearização, como da seção [*Gráfico Semi-Log*](#Gráfico-Semi-Log) para poder aplicar alguma técnica de regressão linear e coeficientes dessa relação. Isso pode ser feito como na seção [*Regressão em Escala Logarítmica*](#Regressão-em-Escala-Logarítmica).\n",
    "\n",
    "Depois que os coeficientes da reta foram encontrados, é preciso transformar os coeficientes para a forma inicial da equação. No caso do termistor, isso seria $A = e^b$ e $B = a$, com incertezas $\\sigma_A = e^b \\sigma_b$ e $\\sigma_B = \\sigma_a$. No código abaixo, todas as transformações, juntamente com a regressão, são feitas diretamente no código, como exemplo. No exemplo também é usada a função [`exp`](https://docs.scipy.org/doc/numpy/reference/generated/numpy.exp.html \"numpy.exp\"), que é apenas $\\exp(x) := e^x$.\n",
    "\n",
    "Note que para este exemplo, no entanto, os eixos do gráfico estão invertidos em relação à seção [*Gráfico Semi-Log*](#Gráfico-Semi-Log), porque faz mais sentido tratar a equação característica da forma inversa, que é:\n",
    "\n",
    "$$ T = \\frac{B}{\\ln(R) - \\ln(A)} $$"
   ]
  },
  {
   "cell_type": "code",
   "execution_count": null,
   "metadata": {},
   "outputs": [],
   "source": [
    "# coletando\n",
    "dados = pd.read_excel('Dados.xlsx', sheet_name='Termistor')\n",
    "# e separando os dados\n",
    "T, dT = dados['T'], dados['dT']\n",
    "R, dR = dados['R'], dados['dR']\n",
    "\n",
    "# valores medidos\n",
    "plt.errorbar(\n",
    "    R, T, xerr=dR, yerr=dT,\n",
    "    fmt='o', elinewidth=2/3, capsize=2, capthick=2/3, color='black',\n",
    "    zorder=10, label='Dados Coletados'\n",
    ")\n",
    "\n",
    "# transformação dos eixos\n",
    "logR = np.log(R)\n",
    "dlogR = dR / R\n",
    "\n",
    "Tinv = 1/T      # inverso da temperatura\n",
    "dTinv = dT/T**2\n",
    "\n",
    "# regressão linear com incertezas\n",
    "data = odr.RealData(Tinv, logR, sx=dTinv, sy=dlogR)\n",
    "odreg = odr.ODR(data, odr.models.unilinear)\n",
    "ans = odreg.run()\n",
    "\n",
    "# coeficientes: lnR = a T^-1 + b\n",
    "a, b = ans.beta\n",
    "da, db = ans.sd_beta\n",
    "\n",
    "# transforma para R = A e^(B/T)\n",
    "A = np.exp(b)\n",
    "dA = db * np.exp(b)\n",
    "\n",
    "B = a\n",
    "dB = da\n",
    "\n",
    "# mostra os coeficientes da eq. característica\n",
    "print(f'valor inicial   = {A}+-{dA}')\n",
    "print(f'fator de cresc. = {B}+-{dB}')\n",
    "\n",
    "# desenha a eq. característica\n",
    "rotulo = f'''Equação Característica:\n",
    "$T = \\\\frac{{({B:.0f} \\pm {dB:.0f})}}{{\\ln(R) - \\ln({A:.4f} \\pm {dA:.4f})}}$'''\n",
    "\n",
    "Rs = np.linspace(min(R) - 2*min(dR), max(R) + 2*max(dR), num=200)\n",
    "# então T = B/ln(R/A) = B/(lnR-lnA)\n",
    "Ts = B/(np.log(Rs) - np.log(A))\n",
    "plt.plot(Rs, Ts, color='red', alpha=0.6, label=rotulo)\n",
    "\n",
    "# textos e legenda\n",
    "plt.xlabel('Resistência [$\\Omega$]')\n",
    "plt.ylabel('Temperatura [$K$]')\n",
    "plt.title(f'''Relação da Temperatura pela\n",
    "Resistência em um Termistor''')\n",
    "plt.legend()"
   ]
  }
 ],
 "metadata": {
  "kernelspec": {
   "display_name": "Python 3",
   "language": "python",
   "name": "python3"
  },
  "language_info": {
   "codemirror_mode": {
    "name": "ipython",
    "version": 3
   },
   "file_extension": ".py",
   "mimetype": "text/x-python",
   "name": "python",
   "nbconvert_exporter": "python",
   "pygments_lexer": "ipython3",
   "version": "3.7.3"
  },
  "toc": {
   "base_numbering": 1,
   "nav_menu": {},
   "number_sections": false,
   "sideBar": true,
   "skip_h1_title": false,
   "title_cell": "Table of Contents",
   "title_sidebar": "Contents",
   "toc_cell": false,
   "toc_position": {
    "height": "485.717px",
    "left": "10px",
    "top": "150px",
    "width": "300.933px"
   },
   "toc_section_display": true,
   "toc_window_display": true
  },
  "varInspector": {
   "cols": {
    "lenName": 16,
    "lenType": 16,
    "lenVar": 40
   },
   "kernels_config": {
    "python": {
     "delete_cmd_postfix": "",
     "delete_cmd_prefix": "del ",
     "library": "var_list.py",
     "varRefreshCmd": "print(var_dic_list())"
    },
    "r": {
     "delete_cmd_postfix": ") ",
     "delete_cmd_prefix": "rm(",
     "library": "var_list.r",
     "varRefreshCmd": "cat(var_dic_list()) "
    }
   },
   "types_to_exclude": [
    "module",
    "function",
    "builtin_function_or_method",
    "instance",
    "_Feature"
   ],
   "window_display": false
  }
 },
 "nbformat": 4,
 "nbformat_minor": 2
}
