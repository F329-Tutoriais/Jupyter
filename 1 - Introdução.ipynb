{
 "cells": [
  {
   "cell_type": "markdown",
   "metadata": {},
   "source": [
    "# Introdução\n",
    "\n",
    "<TT>Python</TT> apareceu pela primeira vez da década de 90 como uma tentativa de uma linguagem de programação com uma sintaxe simplificada que favorecia a legibilidade do código, enforçado construções explícitas e menos complicadas. Na época a linguagem cresceu apenas em um nicho próprio, mas começou a deslanchar em popularidade na década seguinte com a segunda versão da linguagem. Atualmente, <TT>Python</TT> é uma das linguagens de programação mais utilizadas, já na sua terceira iteração, e é mantido como código aberto por uma comunidade de desenvolvedores própria.\n",
    "\n",
    "Uma das áreas em que <TT>Python</TT> mais tem destaque na atualiadade é com ánalise de dados, sendo comparável a linguagens mais tradicionais da área, como <TT>R</TT>. No entanto, boa parte do crescimento na área se deve às bibliotecas e às ferramentas criadas pela comunidade, em especial ao ecossistema [<TT>SciPy</TT>](https://scipy.org/index.html \"SciPy\"). Isso envolve projetos como a biblioteca [<TT>SciPy</TT>](https://scipy.org/scipylib/index.html \"SciPy lib\"), [<TT>NumPy</TT>](http://www.numpy.org/ \"NumPy\"), [<TT>Matplotlib</TT>](https://matplotlib.org/ \"matplotlib\") e [<TT>Pandas</TT>](http://pandas.pydata.org/ \"pandas\"), que serão utilizadas neste material."
   ]
  },
  {
   "cell_type": "markdown",
   "metadata": {},
   "source": [
    "## Importando as Bibliotecas\n",
    "\n",
    "A primeira linha é só para que os gráfico apareçam no *notebook* do <TT>Jupyter</TT>. Por mais que serão usadas várias partes da biblioteca <TT>Matplotlib</TT>, vamos usar na maior parte apenas a interface [`pyplot`](https://matplotlib.org/3.1.0/api/_as_gen/matplotlib.pyplot.html \"matplotlib.pyplot\")."
   ]
  },
  {
   "cell_type": "code",
   "execution_count": 1,
   "metadata": {
    "ExecuteTime": {
     "end_time": "2019-07-17T05:15:44.473459Z",
     "start_time": "2019-07-17T05:15:44.283120Z"
    },
    "hide_input": false
   },
   "outputs": [],
   "source": [
    "%matplotlib inline\n",
    "\n",
    "import numpy as np\n",
    "import pandas as pd\n",
    "from matplotlib import pyplot as plt"
   ]
  },
  {
   "cell_type": "markdown",
   "metadata": {},
   "source": [
    "## Básico do <TT>Matplotlib</TT>\n",
    "\n",
    "A biblioteca <TT>Matplotlib</TT>, em geral, recebe duas listas de dados, uma representando os valores de $x$ e outra de $y$, que devem ter o mesmo tamanho."
   ]
  },
  {
   "cell_type": "code",
   "execution_count": 2,
   "metadata": {
    "ExecuteTime": {
     "end_time": "2019-07-17T05:15:44.648427Z",
     "start_time": "2019-07-17T05:15:44.475173Z"
    }
   },
   "outputs": [
    {
     "data": {
      "text/plain": [
       "[<matplotlib.lines.Line2D at 0x7f558adb5d68>]"
      ]
     },
     "execution_count": 2,
     "metadata": {},
     "output_type": "execute_result"
    },
    {
     "data": {
      "image/png": "[encoded data removed]",
      "text/plain": [
       "<Figure size 432x288 with 1 Axes>"
      ]
     },
     "metadata": {
      "needs_background": "light"
     },
     "output_type": "display_data"
    }
   ],
   "source": [
    "x = [1, 2, 3, 4, 5]\n",
    "y = [1, 4, 9, 16, 25]\n",
    "\n",
    "plt.plot(x, y)"
   ]
  },
  {
   "cell_type": "markdown",
   "metadata": {},
   "source": [
    "## Estilos de Gráfico\n",
    "\n",
    "O <TT>Matplotlib</TT> tem várias opções de [estilos](https://matplotlib.org/3.1.0/gallery/style_sheets/style_sheets_reference.html \"Style Sheets\"). Para os gráficos de relatórios ou outro tipo de documento mais textual, uma boa conbinação é o `'seaborn-whitegrid'`, `'seaborn-paper'` e o `'seaborn-muted'`, nessa ordem, além de algumas [configurações adicionais](https://matplotlib.org/users/customizing.html \"Customizing\")."
   ]
  },
  {
   "cell_type": "code",
   "execution_count": 3,
   "metadata": {
    "ExecuteTime": {
     "end_time": "2019-07-17T05:15:44.657321Z",
     "start_time": "2019-07-17T05:15:44.651259Z"
    }
   },
   "outputs": [],
   "source": [
    "config_paper = {\n",
    "    'axes.spines.right': False,\n",
    "    'axes.spines.top':   False,\n",
    "    'axes.edgecolor':  '.4',\n",
    "    'axes.labelcolor': '.0',\n",
    "    'axes.titlesize': 'large',\n",
    "    'axes.labelsize': 'medium',\n",
    "    'figure.autolayout': True,\n",
    "    'figure.figsize': (4.5, 3.5),\n",
    "    'font.family': ['serif'],\n",
    "    'font.size': 10.0,\n",
    "    'grid.linestyle': '--',\n",
    "    'legend.facecolor': '.9',\n",
    "    'legend.frameon': True,\n",
    "    'savefig.transparent': True,\n",
    "    'text.color': '.0',\n",
    "    'xtick.labelsize': 'small',\n",
    "    'ytick.labelsize': 'small',\n",
    "}\n",
    "plt.style.use(['seaborn-whitegrid', 'seaborn-paper', 'seaborn-muted', config_paper])"
   ]
  },
  {
   "cell_type": "code",
   "execution_count": 4,
   "metadata": {
    "ExecuteTime": {
     "end_time": "2019-07-17T05:15:44.861642Z",
     "start_time": "2019-07-17T05:15:44.660127Z"
    }
   },
   "outputs": [
    {
     "data": {
      "text/plain": [
       "[<matplotlib.lines.Line2D at 0x7f558a67ef98>]"
      ]
     },
     "execution_count": 4,
     "metadata": {},
     "output_type": "execute_result"
    },
    {
     "data": {
      "image/png": "[encoded data removed]",
      "text/plain": [
       "<Figure size 324x252 with 1 Axes>"
      ]
     },
     "metadata": {},
     "output_type": "display_data"
    }
   ],
   "source": [
    "# mesmo exemplo anterior com o novo estilo\n",
    "\n",
    "x = [1, 2, 3, 4, 5]\n",
    "y = [1, 4, 9, 16, 25]\n",
    "\n",
    "plt.plot(x, y)"
   ]
  },
  {
   "cell_type": "markdown",
   "metadata": {},
   "source": [
    "Mas para os *notebooks* aqui outros estilos podem ser melhores, como um conjunto de `'seaborn-darkgrid'`, `'seaborn-notebook'` e o `'seaborn-bright'`, junto com outras configurações um pouco diferentes."
   ]
  },
  {
   "cell_type": "code",
   "execution_count": 5,
   "metadata": {
    "ExecuteTime": {
     "end_time": "2019-07-17T05:15:44.867340Z",
     "start_time": "2019-07-17T05:15:44.863196Z"
    }
   },
   "outputs": [],
   "source": [
    "config_nb = {\n",
    "    'axes.spines.right': False,\n",
    "    'axes.spines.top':   False,\n",
    "    'axes.edgecolor':  '.4',\n",
    "    'axes.labelcolor': '.0',\n",
    "    'axes.titlesize': 'large',\n",
    "    'axes.labelsize': 'medium',\n",
    "    'figure.autolayout': True,\n",
    "    'figure.figsize': (8.1, 6.3),\n",
    "    'font.size': 16.0,\n",
    "    'grid.linestyle': '--',\n",
    "    'legend.facecolor': '.9',\n",
    "    'legend.frameon': True,\n",
    "    'savefig.transparent': False,\n",
    "    'text.color': '.0',\n",
    "    'xtick.labelsize': 'small',\n",
    "    'ytick.labelsize': 'small',\n",
    "}\n",
    "plt.style.use(['seaborn-darkgrid', 'seaborn-notebook', 'seaborn-bright', config_nb])"
   ]
  },
  {
   "cell_type": "code",
   "execution_count": 6,
   "metadata": {
    "ExecuteTime": {
     "end_time": "2019-07-17T05:15:45.093068Z",
     "start_time": "2019-07-17T05:15:44.869015Z"
    }
   },
   "outputs": [
    {
     "data": {
      "text/plain": [
       "[<matplotlib.lines.Line2D at 0x7f55885f0f28>]"
      ]
     },
     "execution_count": 6,
     "metadata": {},
     "output_type": "execute_result"
    },
    {
     "data": {
      "image/png": "[encoded data removed]",
      "text/plain": [
       "<Figure size 583.2x453.6 with 1 Axes>"
      ]
     },
     "metadata": {},
     "output_type": "display_data"
    }
   ],
   "source": [
    "# mesmo exemplo de novo\n",
    "plt.plot(x, y)"
   ]
  },
  {
   "cell_type": "markdown",
   "metadata": {},
   "source": [
    "## Importando os Dados\n",
    "\n",
    "Os dados deste tutorial estão nessa [planilha](https://docs.google.com/spreadsheets/d/1FKZi-SqrMTjQGs3akhrxes26-Db9n4_nB9fLKO-fLaI/edit?usp=sharing \"Dados\"). Para baixá-los, acesse no menu **Arquivo -> Fazer Download Como -> Microsoft Excel (.xlsx)**. Tem um arquivo desses na pasta, que será usado para os dados.\n",
    "\n",
    "![Exemplo de Download da Planilha de Dados](imagens/download.png \"Donwload de Planilha\")\n",
    "\n",
    "Também é possível utilizar o formato de *Valores Separados por Vírgula (.csv)*, com a função [`read_csv`](https://pandas.pydata.org/pandas-docs/stable/reference/api/pandas.read_csv.html \"pandas.read_csv\"), mas como vamos trabalhar com o formato do <TT>Excel</TT>, a função utilizada será [`read_excel`](https://pandas.pydata.org/pandas-docs/stable/reference/api/pandas.read_excel.html \"pandas.read_excel\"), escolhendo a página da planilha com o argumento `sheet_name`. Ambas funções leem os arquivos de entrada e montam um [`DataFrame`](https://pandas.pydata.org/pandas-docs/stable/reference/api/pandas.DataFrame.html \"pandas.DataFrame\") do <TT>Pandas</TT>.\n",
    "\n",
    "> Cuidado com arquivos CSV, porque como eles são textuais o <TT>Pandas</TT> pode não reconhecer os valores numéricos. Normalmente o problema é com o separador decimal, que em português é a virgula (`,`), mas em inglês costuma aparecer como ponto final (`.`)."
   ]
  },
  {
   "cell_type": "code",
   "execution_count": 7,
   "metadata": {
    "ExecuteTime": {
     "end_time": "2019-07-17T05:15:45.123856Z",
     "start_time": "2019-07-17T05:15:45.094566Z"
    }
   },
   "outputs": [
    {
     "data": {
      "text/html": [
       "<div>\n",
       "<style scoped>\n",
       "    .dataframe tbody tr th:only-of-type {\n",
       "        vertical-align: middle;\n",
       "    }\n",
       "\n",
       "    .dataframe tbody tr th {\n",
       "        vertical-align: top;\n",
       "    }\n",
       "\n",
       "    .dataframe thead th {\n",
       "        text-align: right;\n",
       "    }\n",
       "</style>\n",
       "<table border=\"1\" class=\"dataframe\">\n",
       "  <thead>\n",
       "    <tr style=\"text-align: right;\">\n",
       "      <th></th>\n",
       "      <th>V</th>\n",
       "      <th>dV</th>\n",
       "      <th>I</th>\n",
       "      <th>dI</th>\n",
       "    </tr>\n",
       "  </thead>\n",
       "  <tbody>\n",
       "    <tr>\n",
       "      <th>0</th>\n",
       "      <td>-3.065655</td>\n",
       "      <td>0.294275</td>\n",
       "      <td>-34.377359</td>\n",
       "      <td>3.155834</td>\n",
       "    </tr>\n",
       "    <tr>\n",
       "      <th>1</th>\n",
       "      <td>-2.697820</td>\n",
       "      <td>0.267610</td>\n",
       "      <td>-27.956811</td>\n",
       "      <td>3.067110</td>\n",
       "    </tr>\n",
       "    <tr>\n",
       "      <th>2</th>\n",
       "      <td>-1.692812</td>\n",
       "      <td>0.184774</td>\n",
       "      <td>-15.833063</td>\n",
       "      <td>1.646959</td>\n",
       "    </tr>\n",
       "    <tr>\n",
       "      <th>3</th>\n",
       "      <td>-1.471680</td>\n",
       "      <td>0.161785</td>\n",
       "      <td>-10.788397</td>\n",
       "      <td>0.936612</td>\n",
       "    </tr>\n",
       "    <tr>\n",
       "      <th>4</th>\n",
       "      <td>-0.615852</td>\n",
       "      <td>0.060667</td>\n",
       "      <td>-7.936452</td>\n",
       "      <td>0.716368</td>\n",
       "    </tr>\n",
       "    <tr>\n",
       "      <th>5</th>\n",
       "      <td>-0.043765</td>\n",
       "      <td>0.015124</td>\n",
       "      <td>-0.050024</td>\n",
       "      <td>0.114909</td>\n",
       "    </tr>\n",
       "    <tr>\n",
       "      <th>6</th>\n",
       "      <td>0.717312</td>\n",
       "      <td>0.084274</td>\n",
       "      <td>7.430798</td>\n",
       "      <td>0.721983</td>\n",
       "    </tr>\n",
       "    <tr>\n",
       "      <th>7</th>\n",
       "      <td>1.254987</td>\n",
       "      <td>0.129546</td>\n",
       "      <td>13.371898</td>\n",
       "      <td>1.357838</td>\n",
       "    </tr>\n",
       "    <tr>\n",
       "      <th>8</th>\n",
       "      <td>2.353406</td>\n",
       "      <td>0.196184</td>\n",
       "      <td>21.558016</td>\n",
       "      <td>2.157432</td>\n",
       "    </tr>\n",
       "    <tr>\n",
       "      <th>9</th>\n",
       "      <td>2.480765</td>\n",
       "      <td>0.267800</td>\n",
       "      <td>31.335690</td>\n",
       "      <td>2.895233</td>\n",
       "    </tr>\n",
       "    <tr>\n",
       "      <th>10</th>\n",
       "      <td>3.380448</td>\n",
       "      <td>0.357523</td>\n",
       "      <td>33.322264</td>\n",
       "      <td>3.328871</td>\n",
       "    </tr>\n",
       "  </tbody>\n",
       "</table>\n",
       "</div>"
      ],
      "text/plain": [
       "           V        dV          I        dI\n",
       "0  -3.065655  0.294275 -34.377359  3.155834\n",
       "1  -2.697820  0.267610 -27.956811  3.067110\n",
       "2  -1.692812  0.184774 -15.833063  1.646959\n",
       "3  -1.471680  0.161785 -10.788397  0.936612\n",
       "4  -0.615852  0.060667  -7.936452  0.716368\n",
       "5  -0.043765  0.015124  -0.050024  0.114909\n",
       "6   0.717312  0.084274   7.430798  0.721983\n",
       "7   1.254987  0.129546  13.371898  1.357838\n",
       "8   2.353406  0.196184  21.558016  2.157432\n",
       "9   2.480765  0.267800  31.335690  2.895233\n",
       "10  3.380448  0.357523  33.322264  3.328871"
      ]
     },
     "execution_count": 7,
     "metadata": {},
     "output_type": "execute_result"
    }
   ],
   "source": [
    "# exemplo da leitura com os dados\n",
    "dados = pd.read_excel('Dados.xlsx', sheet_name='Resistor')\n",
    "\n",
    "dados"
   ]
  },
  {
   "cell_type": "markdown",
   "metadata": {},
   "source": [
    "## Salvando os gráficos\n",
    "\n",
    "Enquanto estiver usando o *notebook*, salvar os gráficos não é necessário, mas uma vez pronto, o gráfico pode ser salvo com [`savefig`](https://matplotlib.org/3.1.0/api/_as_gen/matplotlib.pyplot.savefig.html \"matplotlib.pyplot.savefig\"). O tipo da imagem é reconhecido pela extensão."
   ]
  },
  {
   "cell_type": "code",
   "execution_count": 8,
   "metadata": {
    "ExecuteTime": {
     "end_time": "2019-07-17T05:15:47.740573Z",
     "start_time": "2019-07-17T05:15:45.127557Z"
    }
   },
   "outputs": [
    {
     "data": {
      "image/png": "[encoded data removed]",
      "text/plain": [
       "<Figure size 583.2x453.6 with 1 Axes>"
      ]
     },
     "metadata": {},
     "output_type": "display_data"
    }
   ],
   "source": [
    "plt.plot(x, y)\n",
    "\n",
    "# a resolução de um PNG pode ser controlada com o argumento `dpi`\n",
    "plt.savefig('exemplo.png', dpi=200)\n",
    "\n",
    "# arquivos PDF mantém a resolução\n",
    "plt.savefig('exemplo.pdf')\n",
    "\n",
    "# SVG é um tipo de imagem vetorizada\n",
    "plt.savefig('exemplo.svg')\n",
    "\n",
    "# PGF é um tipo bom para trabalhar com LaTeX\n",
    "plt.savefig('exemplo.pgf')"
   ]
  },
  {
   "cell_type": "markdown",
   "metadata": {},
   "source": [
    "---\n",
    "Ignore o código abaixo, é pra carregar os estilos."
   ]
  },
  {
   "cell_type": "code",
   "execution_count": 9,
   "metadata": {
    "ExecuteTime": {
     "end_time": "2019-07-17T05:15:47.749209Z",
     "start_time": "2019-07-17T05:15:47.743872Z"
    }
   },
   "outputs": [
    {
     "data": {
      "text/html": [
       "<link href='http://fonts.googleapis.com/css?family=Fenix' rel='stylesheet' type='text/css'>\n",
       "<link href='http://fonts.googleapis.com/css?family=Alegreya+Sans:100,300,400,500,700,800,900,100italic,300italic,400italic,500italic,700italic,800italic,900italic' rel='stylesheet' type='text/css'>\n",
       "<link href='http://fonts.googleapis.com/css?family=Source+Code+Pro:300,400' rel='stylesheet' type='text/css'>\n",
       "<style>\n",
       "\n",
       "@font-face {\n",
       "    font-family: \"Computer Modern\";\n",
       "    src: url('http://mirrors.ctan.org/fonts/cm-unicode/fonts/otf/cmunss.otf');\n",
       "}\n",
       "\n",
       "\n",
       "#notebook_panel { /* main background */\n",
       "    background: rgb(245,245,245);\n",
       "}\n",
       "\n",
       "div.cell { /* set cell width */\n",
       "    width: 750px;\n",
       "}\n",
       "\n",
       "div #notebook { /* centre the content */\n",
       "    background: #fff; /* white background for content */\n",
       "    width: 1000px;\n",
       "    margin: auto;\n",
       "    padding-left: 0em;\n",
       "}\n",
       "\n",
       "#notebook li { /* More space between bullet points */\n",
       "margin-top:0.8em;\n",
       "}\n",
       "\n",
       "/* draw border around running cells */\n",
       "div.cell.border-box-sizing.code_cell.running { \n",
       "    border: 1px solid #111;\n",
       "}\n",
       "\n",
       "/* Put a solid color box around each cell and its output, visually linking them*/\n",
       "div.cell.code_cell {\n",
       "    background-color: rgb(256,256,256); \n",
       "    border-radius: 0px; \n",
       "    padding: 0.5em;\n",
       "    margin-left:1em;\n",
       "    margin-top: 1em;\n",
       "}\n",
       "\n",
       "\n",
       "div.text_cell_render{\n",
       "    font-family: 'Alegreya Sans' sans-serif;\n",
       "    line-height: 140%;\n",
       "    font-size: 125%;\n",
       "    font-weight: 400;\n",
       "    width:600px;\n",
       "    margin-left:auto;\n",
       "    margin-right:auto;\n",
       "}\n",
       "\n",
       "/* Formatting for header cells */\n",
       ".text_cell_render h1 {\n",
       "    font-family: 'Alegreya Sans', sans-serif;\n",
       "    font-style:regular;\n",
       "    font-weight: 200;    \n",
       "    font-size: 50pt;\n",
       "    line-height: 100%;\n",
       "    color:#CD2305;\n",
       "    margin-bottom: 0.5em;\n",
       "    margin-top: 0.5em;\n",
       "    display: block;\n",
       "}\n",
       "\n",
       ".text_cell_render h2 {\n",
       "    font-family: 'Fenix', serif;\n",
       "    font-size: 22pt;\n",
       "    line-height: 100%;\n",
       "    margin-bottom: 0.1em;\n",
       "    margin-top: 0.3em;\n",
       "    display: block;\n",
       "}\n",
       "\n",
       ".text_cell_render h3 {\n",
       "    font-family: 'Fenix', serif;\n",
       "    margin-top:12px;\n",
       "    font-size: 16pt;\n",
       "    margin-bottom: 3px;\n",
       "    font-style: regular;\n",
       "}\n",
       "\n",
       ".text_cell_render h4 {    /*Use this for captions*/\n",
       "    font-family: 'Fenix', serif;\n",
       "    font-size: 2pt;\n",
       "    text-align: center;\n",
       "    margin-top: 0em;\n",
       "    margin-bottom: 2em;\n",
       "    font-style: regular;\n",
       "}\n",
       "\n",
       ".text_cell_render h5 {  /*Use this for small titles*/\n",
       "    font-family: 'Alegreya Sans', sans-serif;\n",
       "    font-weight: 300;\n",
       "    font-size: 16pt;\n",
       "    color: #CD2305;\n",
       "    font-style: italic;\n",
       "    margin-bottom: .5em;\n",
       "    margin-top: 0.5em;\n",
       "    display: block;\n",
       "}\n",
       "\n",
       ".text_cell_render h6 { /*use this for copyright note*/\n",
       "    font-family: 'Source Code Pro', sans-serif;\n",
       "    font-weight: 300;\n",
       "    font-size: 9pt;\n",
       "    line-height: 100%;\n",
       "    color: grey;\n",
       "    margin-bottom: 1px;\n",
       "    margin-top: 1px;\n",
       "}\n",
       "\n",
       ".CodeMirror{\n",
       "        font-family: \"Source Code Pro\";\n",
       "        font-size: 90%;\n",
       "}\n",
       "\n",
       ".warning{\n",
       "    color: rgb( 240, 20, 20 )\n",
       "    }\n",
       "</style>\n",
       "\n",
       "<script>\n",
       "    MathJax.Hub.Config({\n",
       "                        TeX: {\n",
       "                           extensions: [\"AMSmath.js\"], \n",
       "                           equationNumbers: { autoNumber: \"AMS\", useLabelIds: true}\n",
       "                           },\n",
       "                        tex2jax: {\n",
       "                            inlineMath: [ ['$','$'], [\"\\\\(\",\"\\\\)\"] ],\n",
       "                            displayMath: [ ['$$','$$'], [\"\\\\[\",\"\\\\]\"] ]\n",
       "                            },\n",
       "                        displayAlign: 'center', // Change this to 'center' to center equations.\n",
       "                        \"HTML-CSS\": {\n",
       "                            styles: {'.MathJax_Display': {\"margin\": 4}}\n",
       "                            }\n",
       "                        });\n",
       "    MathJax.Hub.Queue(\n",
       "                      [\"resetEquationNumbers\", MathJax.InputJax.TeX],\n",
       "                      [\"PreProcess\", MathJax.Hub],\n",
       "                      [\"Reprocess\", MathJax.Hub]\n",
       "                     );\n",
       "</script>\n"
      ],
      "text/plain": [
       "<IPython.core.display.HTML object>"
      ]
     },
     "execution_count": 9,
     "metadata": {},
     "output_type": "execute_result"
    }
   ],
   "source": [
    "from IPython.core.display import HTML\n",
    "\n",
    "with open('.estilo.css', 'r') as estilo_arq:\n",
    "    estilo = estilo_arq.read()\n",
    "\n",
    "HTML(estilo)"
   ]
  }
 ],
 "metadata": {
  "kernelspec": {
   "display_name": "Python 3",
   "language": "python",
   "name": "python3"
  },
  "language_info": {
   "codemirror_mode": {
    "name": "ipython",
    "version": 3
   },
   "file_extension": ".py",
   "mimetype": "text/x-python",
   "name": "python",
   "nbconvert_exporter": "python",
   "pygments_lexer": "ipython3",
   "version": "3.7.3"
  },
  "toc": {
   "base_numbering": 1,
   "nav_menu": {},
   "number_sections": false,
   "sideBar": true,
   "skip_h1_title": false,
   "title_cell": "Table of Contents",
   "title_sidebar": "Contents",
   "toc_cell": false,
   "toc_position": {
    "height": "773px",
    "left": "26px",
    "top": "207px",
    "width": "239px"
   },
   "toc_section_display": true,
   "toc_window_display": true
  },
  "varInspector": {
   "cols": {
    "lenName": 16,
    "lenType": 16,
    "lenVar": 40
   },
   "kernels_config": {
    "python": {
     "delete_cmd_postfix": "",
     "delete_cmd_prefix": "del ",
     "library": "var_list.py",
     "varRefreshCmd": "print(var_dic_list())"
    },
    "r": {
     "delete_cmd_postfix": ") ",
     "delete_cmd_prefix": "rm(",
     "library": "var_list.r",
     "varRefreshCmd": "cat(var_dic_list()) "
    }
   },
   "types_to_exclude": [
    "module",
    "function",
    "builtin_function_or_method",
    "instance",
    "_Feature"
   ],
   "window_display": false
  }
 },
 "nbformat": 4,
 "nbformat_minor": 2
}
