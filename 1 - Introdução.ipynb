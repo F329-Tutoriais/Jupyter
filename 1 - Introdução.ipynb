{
 "cells": [
  {
   "cell_type": "markdown",
   "metadata": {},
   "source": [
    "# Introdução\n",
    "\n",
    "<TT>Python</TT> apareceu pela primeira vez da década de 90 como uma tentativa de uma linguagem de programação com uma sintaxe simplificada que favorecia a legibilidade do código, enforçado construções explícitas e menos complicadas. Na época a linguagem cresceu apenas em um nicho próprio, mas começou a deslanchar em popularidade na década seguinte com a segunda versão da linguagem. Atualmente, <TT>Python</TT> é uma das linguagens de programação mais utilizadas, já na sua terceira iteração, e é mantido como código aberto por uma comunidade de desenvolvedores própria.\n",
    "\n",
    "Uma das áreas em que <TT>Python</TT> mais tem destaque na atualiadade é com ánalise de dados, sendo comparável a linguagens mais tradicionais da área, como <TT>R</TT>. No entanto, boa parte do crescimento na área se deve às bibliotecas e às ferramentas criadas pela comunidade, em especial ao ecossistema [<TT>SciPy</TT>](https://scipy.org/index.html \"SciPy\"). Isso envolve projetos como a biblioteca [<TT>SciPy</TT>](https://scipy.org/scipylib/index.html \"SciPy lib\"), [<TT>NumPy</TT>](http://www.numpy.org/ \"NumPy\"), [<TT>Matplotlib</TT>](https://matplotlib.org/ \"matplotlib\") e [<TT>Pandas</TT>](http://pandas.pydata.org/ \"pandas\"), que serão utilizadas neste material."
   ]
  },
  {
   "cell_type": "markdown",
   "metadata": {},
   "source": [
    "## Importando as Bibliotecas\n",
    "\n",
    "A primeira linha é só para que os gráfico apareçam no *notebook* do <TT>Jupyter</TT>. Por mais que serão usadas várias partes da biblioteca <TT>Matplotlib</TT>, vamos usar na maior parte apenas a interface [`pyplot`](https://matplotlib.org/3.1.0/api/_as_gen/matplotlib.pyplot.html \"matplotlib.pyplot\")."
   ]
  },
  {
   "cell_type": "code",
   "execution_count": null,
   "metadata": {
    "hide_input": false
   },
   "outputs": [],
   "source": [
    "%matplotlib inline\n",
    "\n",
    "import numpy as np\n",
    "import pandas as pd\n",
    "from matplotlib import pyplot as plt"
   ]
  },
  {
   "cell_type": "markdown",
   "metadata": {},
   "source": [
    "## Básico do <TT>Matplotlib</TT>\n",
    "\n",
    "A biblioteca <TT>Matplotlib</TT>, em geral, recebe duas listas de dados, uma representando os valores de $x$ e outra de $y$, que devem ter o mesmo tamanho."
   ]
  },
  {
   "cell_type": "code",
   "execution_count": null,
   "metadata": {},
   "outputs": [],
   "source": [
    "x = [1, 2, 3, 4, 5]\n",
    "y = [1, 4, 9, 16, 25]\n",
    "\n",
    "plt.plot(x, y)"
   ]
  },
  {
   "cell_type": "markdown",
   "metadata": {},
   "source": [
    "## Estilos de Gráfico\n",
    "\n",
    "O <TT>Matplotlib</TT> tem várias opções de [estilos](https://matplotlib.org/3.1.0/gallery/style_sheets/style_sheets_reference.html \"Style Sheets\"). Para os gráficos de relatórios ou outro tipo de documento mais textual, uma boa conbinação é o `'seaborn-whitegrid'`, `'seaborn-paper'` e o `'seaborn-muted'`, nessa ordem, além de algumas [configurações adicionais](https://matplotlib.org/users/customizing.html \"Customizing\")."
   ]
  },
  {
   "cell_type": "code",
   "execution_count": null,
   "metadata": {},
   "outputs": [],
   "source": [
    "config_paper = {\n",
    "    'axes.spines.right': False,\n",
    "    'axes.spines.top':   False,\n",
    "    'axes.edgecolor':  '.4',\n",
    "    'axes.labelcolor': '.0',\n",
    "    'axes.titlesize': 'large',\n",
    "    'axes.labelsize': 'medium',\n",
    "    'figure.autolayout': True,\n",
    "    'figure.figsize': (4.5, 3.5),\n",
    "    'font.family': ['serif'],\n",
    "    'font.size': 10.0,\n",
    "    'grid.linestyle': '--',\n",
    "    'legend.facecolor': '.9',\n",
    "    'legend.frameon': True,\n",
    "    'savefig.transparent': True,\n",
    "    'text.color': '.0',\n",
    "    'xtick.labelsize': 'small',\n",
    "    'ytick.labelsize': 'small',\n",
    "}\n",
    "plt.style.use(['seaborn-whitegrid', 'seaborn-paper', 'seaborn-muted', config_paper])"
   ]
  },
  {
   "cell_type": "code",
   "execution_count": null,
   "metadata": {},
   "outputs": [],
   "source": [
    "# mesmo exemplo anterior com o novo estilo\n",
    "\n",
    "x = [1, 2, 3, 4, 5]\n",
    "y = [1, 4, 9, 16, 25]\n",
    "\n",
    "plt.plot(x, y)"
   ]
  },
  {
   "cell_type": "markdown",
   "metadata": {},
   "source": [
    "Mas para os *notebooks* aqui outros estilos podem ser melhores, como um conjunto de `'seaborn-darkgrid'`, `'seaborn-notebook'` e o `'seaborn-bright'`, junto com outras configurações um pouco diferentes."
   ]
  },
  {
   "cell_type": "code",
   "execution_count": null,
   "metadata": {},
   "outputs": [],
   "source": [
    "config_nb = {\n",
    "    'axes.spines.right': False,\n",
    "    'axes.spines.top':   False,\n",
    "    'axes.edgecolor':  '.4',\n",
    "    'axes.labelcolor': '.0',\n",
    "    'axes.titlesize': 'large',\n",
    "    'axes.labelsize': 'medium',\n",
    "    'figure.autolayout': True,\n",
    "    'figure.figsize': (8.1, 6.3),\n",
    "    'font.size': 16.0,\n",
    "    'grid.linestyle': '--',\n",
    "    'legend.facecolor': '.9',\n",
    "    'legend.frameon': True,\n",
    "    'savefig.transparent': False,\n",
    "    'text.color': '.0',\n",
    "    'xtick.labelsize': 'small',\n",
    "    'ytick.labelsize': 'small',\n",
    "}\n",
    "plt.style.use(['seaborn-darkgrid', 'seaborn-notebook', 'seaborn-bright', config_nb])"
   ]
  },
  {
   "cell_type": "code",
   "execution_count": null,
   "metadata": {},
   "outputs": [],
   "source": [
    "# mesmo exemplo de novo\n",
    "plt.plot(x, y)"
   ]
  },
  {
   "cell_type": "markdown",
   "metadata": {},
   "source": [
    "## Importando os Dados\n",
    "\n",
    "Os dados deste tutorial estão nessa [planilha](https://docs.google.com/spreadsheets/d/1FKZi-SqrMTjQGs3akhrxes26-Db9n4_nB9fLKO-fLaI/edit?usp=sharing \"Dados\"). Para baixá-los, acesse no menu **Arquivo -> Fazer Download Como -> Microsoft Excel (.xlsx)**. Tem um arquivo desses na pasta, que será usado para os dados.\n",
    "\n",
    "![Exemplo de Download da Planilha de Dados](imagens/download.png \"Donwload de Planilha\")\n",
    "\n",
    "Também é possível utilizar o formato de *Valores Separados por Vírgula (.csv)*, com a função [`read_csv`](https://pandas.pydata.org/pandas-docs/stable/reference/api/pandas.read_csv.html \"pandas.read_csv\"), mas como vamos trabalhar com o formato do <TT>Excel</TT>, a função utilizada será [`read_excel`](https://pandas.pydata.org/pandas-docs/stable/reference/api/pandas.read_excel.html \"pandas.read_excel\"), escolhendo a página da planilha com o argumento `sheet_name`. Ambas funções leem os arquivos de entrada e montam um [`DataFrame`](https://pandas.pydata.org/pandas-docs/stable/reference/api/pandas.DataFrame.html \"pandas.DataFrame\") do <TT>Pandas</TT>.\n",
    "\n",
    "> Cuidado com arquivos CSV, porque como eles são textuais o <TT>Pandas</TT> pode não reconhecer os valores numéricos. Normalmente o problema é com o separador decimal, que em português é a virgula (`,`), mas em inglês costuma aparecer como ponto final (`.`)."
   ]
  },
  {
   "cell_type": "code",
   "execution_count": null,
   "metadata": {},
   "outputs": [],
   "source": [
    "# exemplo da leitura com os dados\n",
    "dados = pd.read_excel('Dados.xlsx', sheet_name='Resistor')\n",
    "\n",
    "dados"
   ]
  },
  {
   "cell_type": "markdown",
   "metadata": {},
   "source": [
    "## Salvando os gráficos\n",
    "\n",
    "Enquanto estiver usando o *notebook*, salvar os gráficos não é necessário, mas uma vez pronto, o gráfico pode ser salvo com [`savefig`](https://matplotlib.org/3.1.0/api/_as_gen/matplotlib.pyplot.savefig.html \"matplotlib.pyplot.savefig\"). O tipo da imagem é reconhecido pela extensão."
   ]
  },
  {
   "cell_type": "code",
   "execution_count": null,
   "metadata": {},
   "outputs": [],
   "source": [
    "plt.plot(x, y)\n",
    "\n",
    "# a resolução de um PNG pode ser controlada com o argumento `dpi`\n",
    "plt.savefig('exemplo.png', dpi=200)\n",
    "\n",
    "# arquivos PDF mantém a resolução\n",
    "plt.savefig('exemplo.pdf')\n",
    "\n",
    "# SVG é um tipo de imagem vetorizada\n",
    "plt.savefig('exemplo.svg')\n",
    "\n",
    "# PGF é um tipo bom para trabalhar com LaTeX\n",
    "plt.savefig('exemplo.pgf')"
   ]
  }
 ],
 "metadata": {
  "kernelspec": {
   "display_name": "Python 3",
   "language": "python",
   "name": "python3"
  },
  "language_info": {
   "codemirror_mode": {
    "name": "ipython",
    "version": 3
   },
   "file_extension": ".py",
   "mimetype": "text/x-python",
   "name": "python",
   "nbconvert_exporter": "python",
   "pygments_lexer": "ipython3",
   "version": "3.7.3"
  },
  "toc": {
   "base_numbering": 1,
   "nav_menu": {},
   "number_sections": false,
   "sideBar": true,
   "skip_h1_title": false,
   "title_cell": "Table of Contents",
   "title_sidebar": "Contents",
   "toc_cell": false,
   "toc_position": {
    "height": "773px",
    "left": "26px",
    "top": "207px",
    "width": "239px"
   },
   "toc_section_display": true,
   "toc_window_display": true
  },
  "varInspector": {
   "cols": {
    "lenName": 16,
    "lenType": 16,
    "lenVar": 40
   },
   "kernels_config": {
    "python": {
     "delete_cmd_postfix": "",
     "delete_cmd_prefix": "del ",
     "library": "var_list.py",
     "varRefreshCmd": "print(var_dic_list())"
    },
    "r": {
     "delete_cmd_postfix": ") ",
     "delete_cmd_prefix": "rm(",
     "library": "var_list.r",
     "varRefreshCmd": "cat(var_dic_list()) "
    }
   },
   "types_to_exclude": [
    "module",
    "function",
    "builtin_function_or_method",
    "instance",
    "_Feature"
   ],
   "window_display": false
  }
 },
 "nbformat": 4,
 "nbformat_minor": 2
}
